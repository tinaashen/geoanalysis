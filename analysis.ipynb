{
 "cells": [
  {
   "cell_type": "code",
   "execution_count": 1,
   "metadata": {},
   "outputs": [
    {
     "data": {
      "text/html": [
       "<div>\n",
       "<style scoped>\n",
       "    .dataframe tbody tr th:only-of-type {\n",
       "        vertical-align: middle;\n",
       "    }\n",
       "\n",
       "    .dataframe tbody tr th {\n",
       "        vertical-align: top;\n",
       "    }\n",
       "\n",
       "    .dataframe thead th {\n",
       "        text-align: right;\n",
       "    }\n",
       "</style>\n",
       "<table border=\"1\" class=\"dataframe\">\n",
       "  <thead>\n",
       "    <tr style=\"text-align: right;\">\n",
       "      <th></th>\n",
       "      <th>Variable</th>\n",
       "      <th>Year</th>\n",
       "      <th>ABARES region</th>\n",
       "      <th>Value</th>\n",
       "      <th>RSE</th>\n",
       "    </tr>\n",
       "  </thead>\n",
       "  <tbody>\n",
       "    <tr>\n",
       "      <th>0</th>\n",
       "      <td>AI stud fees and herd testing ($)</td>\n",
       "      <td>1990</td>\n",
       "      <td>NSW Central West</td>\n",
       "      <td>90.0</td>\n",
       "      <td>68.0</td>\n",
       "    </tr>\n",
       "    <tr>\n",
       "      <th>1</th>\n",
       "      <td>Accounting services ($)</td>\n",
       "      <td>1990</td>\n",
       "      <td>NSW Central West</td>\n",
       "      <td>2320.0</td>\n",
       "      <td>19.0</td>\n",
       "    </tr>\n",
       "    <tr>\n",
       "      <th>2</th>\n",
       "      <td>Advisory services ($)</td>\n",
       "      <td>1990</td>\n",
       "      <td>NSW Central West</td>\n",
       "      <td>120.0</td>\n",
       "      <td>80.0</td>\n",
       "    </tr>\n",
       "    <tr>\n",
       "      <th>3</th>\n",
       "      <td>Age of owner manager (yrs)</td>\n",
       "      <td>1990</td>\n",
       "      <td>NSW Central West</td>\n",
       "      <td>57.0</td>\n",
       "      <td>5.0</td>\n",
       "    </tr>\n",
       "    <tr>\n",
       "      <th>4</th>\n",
       "      <td>Age of spouse (yrs)</td>\n",
       "      <td>1990</td>\n",
       "      <td>NSW Central West</td>\n",
       "      <td>51.0</td>\n",
       "      <td>4.0</td>\n",
       "    </tr>\n",
       "  </tbody>\n",
       "</table>\n",
       "</div>"
      ],
      "text/plain": [
       "                            Variable  Year     ABARES region   Value   RSE\n",
       "0  AI stud fees and herd testing ($)  1990  NSW Central West    90.0  68.0\n",
       "1            Accounting services ($)  1990  NSW Central West  2320.0  19.0\n",
       "2              Advisory services ($)  1990  NSW Central West   120.0  80.0\n",
       "3         Age of owner manager (yrs)  1990  NSW Central West    57.0   5.0\n",
       "4                Age of spouse (yrs)  1990  NSW Central West    51.0   4.0"
      ]
     },
     "execution_count": 1,
     "metadata": {},
     "output_type": "execute_result"
    }
   ],
   "source": [
    "import pandas as pd\n",
    "import numpy as np\n",
    "import re\n",
    "from sklearn.impute import SimpleImputer\n",
    "fdp = pd.read_csv('fdp-beta-regional-historical.csv')\n",
    "fdp.head()"
   ]
  },
  {
   "cell_type": "code",
   "execution_count": 2,
   "metadata": {},
   "outputs": [
    {
     "name": "stdout",
     "output_type": "stream",
     "text": [
      "['NSW Central West' 'NSW Coastal' 'NSW Far West'\n",
      " 'NSW North West Slopes and Plains' 'NSW Riverina'\n",
      " 'NSW Tablelands (Northern Central and Southern)'\n",
      " 'NT Alice Springs Districts' 'QLD Cape York and the Gulf'\n",
      " 'QLD Central North' 'QLD Charleville - Longreach'\n",
      " 'QLD Eastern Darling Downs' 'QLD Northern Coastal - Mackay to Cairns'\n",
      " 'QLD Southern Coastal - Curtis to Moreton' 'QLD West and South West'\n",
      " 'QLD Western Downs and Central Highlands' 'SA Eyre Peninsula'\n",
      " 'SA Murray Lands and Yorke Peninsula' 'SA Northern Pastoral'\n",
      " 'SA South East' 'TAS Tasmania' 'VIC Central North' 'VIC Mallee'\n",
      " 'VIC Southern and Eastern Victoria' 'VIC Wimmera'\n",
      " 'WA Central and Southern Wheat Belt' 'WA Northern and Eastern Wheat Belt'\n",
      " 'WA Pilbara and Central Pastoral' 'WA South West Coastal'\n",
      " 'WA The Kimberley' 'NT Barkly Tablelands' 'NT Top End Darwin'\n",
      " 'NT Victoria River District - Katherine']\n"
     ]
    }
   ],
   "source": [
    "print(pd.unique(fdp['ABARES region']))"
   ]
  },
  {
   "cell_type": "code",
   "execution_count": 3,
   "metadata": {},
   "outputs": [
    {
     "data": {
      "text/html": [
       "<div>\n",
       "<style scoped>\n",
       "    .dataframe tbody tr th:only-of-type {\n",
       "        vertical-align: middle;\n",
       "    }\n",
       "\n",
       "    .dataframe tbody tr th {\n",
       "        vertical-align: top;\n",
       "    }\n",
       "\n",
       "    .dataframe thead th {\n",
       "        text-align: right;\n",
       "    }\n",
       "</style>\n",
       "<table border=\"1\" class=\"dataframe\">\n",
       "  <thead>\n",
       "    <tr style=\"text-align: right;\">\n",
       "      <th></th>\n",
       "      <th>Variable</th>\n",
       "      <th>AI stud fees and herd testing ($)</th>\n",
       "      <th>Accounting services ($)</th>\n",
       "      <th>Advisory services ($)</th>\n",
       "      <th>Age of owner manager (yrs)</th>\n",
       "      <th>Age of spouse (yrs)</th>\n",
       "      <th>Agistment ($)</th>\n",
       "      <th>Area operated at 30 June (ha)</th>\n",
       "      <th>Barley area sown (ha)</th>\n",
       "      <th>Barley produced (t)</th>\n",
       "      <th>Barley receipts ($)</th>\n",
       "      <th>...</th>\n",
       "      <th>Wages for hired labor ($)</th>\n",
       "      <th>Water charges ($)</th>\n",
       "      <th>Wethers at 30 June (no.)</th>\n",
       "      <th>Wheat area sown (ha)</th>\n",
       "      <th>Wheat produced (t)</th>\n",
       "      <th>Wheat receipts ($)</th>\n",
       "      <th>Wheat sold (t)</th>\n",
       "      <th>Wool cut per head (kg)</th>\n",
       "      <th>Wool produced (kg)</th>\n",
       "      <th>Wool receipts ($)</th>\n",
       "    </tr>\n",
       "    <tr>\n",
       "      <th>ABARES region</th>\n",
       "      <th>Year</th>\n",
       "      <th></th>\n",
       "      <th></th>\n",
       "      <th></th>\n",
       "      <th></th>\n",
       "      <th></th>\n",
       "      <th></th>\n",
       "      <th></th>\n",
       "      <th></th>\n",
       "      <th></th>\n",
       "      <th></th>\n",
       "      <th></th>\n",
       "      <th></th>\n",
       "      <th></th>\n",
       "      <th></th>\n",
       "      <th></th>\n",
       "      <th></th>\n",
       "      <th></th>\n",
       "      <th></th>\n",
       "      <th></th>\n",
       "      <th></th>\n",
       "      <th></th>\n",
       "    </tr>\n",
       "  </thead>\n",
       "  <tbody>\n",
       "    <tr>\n",
       "      <th rowspan=\"5\" valign=\"top\">NSW Central West</th>\n",
       "      <th>1990</th>\n",
       "      <td>90.0</td>\n",
       "      <td>2320.0</td>\n",
       "      <td>120.0</td>\n",
       "      <td>57.0</td>\n",
       "      <td>51.0</td>\n",
       "      <td>290.0</td>\n",
       "      <td>1132.0</td>\n",
       "      <td>21.0</td>\n",
       "      <td>37.0</td>\n",
       "      <td>12760.0</td>\n",
       "      <td>...</td>\n",
       "      <td>11910.0</td>\n",
       "      <td>1290.0</td>\n",
       "      <td>430.0</td>\n",
       "      <td>107.0</td>\n",
       "      <td>199.0</td>\n",
       "      <td>85060.0</td>\n",
       "      <td>201.0</td>\n",
       "      <td>4.6</td>\n",
       "      <td>9783.0</td>\n",
       "      <td>141140.0</td>\n",
       "    </tr>\n",
       "    <tr>\n",
       "      <th>1991</th>\n",
       "      <td>310.0</td>\n",
       "      <td>2290.0</td>\n",
       "      <td>210.0</td>\n",
       "      <td>54.0</td>\n",
       "      <td>51.0</td>\n",
       "      <td>370.0</td>\n",
       "      <td>1054.0</td>\n",
       "      <td>14.0</td>\n",
       "      <td>24.0</td>\n",
       "      <td>4060.0</td>\n",
       "      <td>...</td>\n",
       "      <td>9480.0</td>\n",
       "      <td>900.0</td>\n",
       "      <td>478.0</td>\n",
       "      <td>105.0</td>\n",
       "      <td>214.0</td>\n",
       "      <td>53280.0</td>\n",
       "      <td>191.0</td>\n",
       "      <td>4.8</td>\n",
       "      <td>10288.0</td>\n",
       "      <td>104640.0</td>\n",
       "    </tr>\n",
       "    <tr>\n",
       "      <th>1992</th>\n",
       "      <td>90.0</td>\n",
       "      <td>2790.0</td>\n",
       "      <td>730.0</td>\n",
       "      <td>52.0</td>\n",
       "      <td>49.0</td>\n",
       "      <td>250.0</td>\n",
       "      <td>1061.0</td>\n",
       "      <td>20.0</td>\n",
       "      <td>34.0</td>\n",
       "      <td>6930.0</td>\n",
       "      <td>...</td>\n",
       "      <td>12440.0</td>\n",
       "      <td>890.0</td>\n",
       "      <td>561.0</td>\n",
       "      <td>80.0</td>\n",
       "      <td>134.0</td>\n",
       "      <td>50560.0</td>\n",
       "      <td>135.0</td>\n",
       "      <td>4.5</td>\n",
       "      <td>9734.0</td>\n",
       "      <td>76530.0</td>\n",
       "    </tr>\n",
       "    <tr>\n",
       "      <th>1993</th>\n",
       "      <td>150.0</td>\n",
       "      <td>2180.0</td>\n",
       "      <td>280.0</td>\n",
       "      <td>54.0</td>\n",
       "      <td>50.0</td>\n",
       "      <td>430.0</td>\n",
       "      <td>1018.0</td>\n",
       "      <td>20.0</td>\n",
       "      <td>47.0</td>\n",
       "      <td>7800.0</td>\n",
       "      <td>...</td>\n",
       "      <td>12240.0</td>\n",
       "      <td>2470.0</td>\n",
       "      <td>520.0</td>\n",
       "      <td>101.0</td>\n",
       "      <td>243.0</td>\n",
       "      <td>78890.0</td>\n",
       "      <td>235.0</td>\n",
       "      <td>4.5</td>\n",
       "      <td>8955.0</td>\n",
       "      <td>59910.0</td>\n",
       "    </tr>\n",
       "    <tr>\n",
       "      <th>1994</th>\n",
       "      <td>90.0</td>\n",
       "      <td>2430.0</td>\n",
       "      <td>190.0</td>\n",
       "      <td>53.0</td>\n",
       "      <td>49.0</td>\n",
       "      <td>310.0</td>\n",
       "      <td>1065.0</td>\n",
       "      <td>27.0</td>\n",
       "      <td>63.0</td>\n",
       "      <td>9860.0</td>\n",
       "      <td>...</td>\n",
       "      <td>10120.0</td>\n",
       "      <td>1590.0</td>\n",
       "      <td>431.0</td>\n",
       "      <td>106.0</td>\n",
       "      <td>304.0</td>\n",
       "      <td>85940.0</td>\n",
       "      <td>269.0</td>\n",
       "      <td>4.2</td>\n",
       "      <td>8038.0</td>\n",
       "      <td>61800.0</td>\n",
       "    </tr>\n",
       "    <tr>\n",
       "      <th>...</th>\n",
       "      <th>...</th>\n",
       "      <td>...</td>\n",
       "      <td>...</td>\n",
       "      <td>...</td>\n",
       "      <td>...</td>\n",
       "      <td>...</td>\n",
       "      <td>...</td>\n",
       "      <td>...</td>\n",
       "      <td>...</td>\n",
       "      <td>...</td>\n",
       "      <td>...</td>\n",
       "      <td>...</td>\n",
       "      <td>...</td>\n",
       "      <td>...</td>\n",
       "      <td>...</td>\n",
       "      <td>...</td>\n",
       "      <td>...</td>\n",
       "      <td>...</td>\n",
       "      <td>...</td>\n",
       "      <td>...</td>\n",
       "      <td>...</td>\n",
       "      <td>...</td>\n",
       "    </tr>\n",
       "    <tr>\n",
       "      <th rowspan=\"5\" valign=\"top\">WA The Kimberley</th>\n",
       "      <th>2018</th>\n",
       "      <td>6150.0</td>\n",
       "      <td>11550.0</td>\n",
       "      <td>14640.0</td>\n",
       "      <td>NaN</td>\n",
       "      <td>NaN</td>\n",
       "      <td>42280.0</td>\n",
       "      <td>488457.0</td>\n",
       "      <td>0.0</td>\n",
       "      <td>0.0</td>\n",
       "      <td>0.0</td>\n",
       "      <td>...</td>\n",
       "      <td>378070.0</td>\n",
       "      <td>0.0</td>\n",
       "      <td>0.0</td>\n",
       "      <td>0.0</td>\n",
       "      <td>0.0</td>\n",
       "      <td>0.0</td>\n",
       "      <td>0.0</td>\n",
       "      <td>NaN</td>\n",
       "      <td>0.0</td>\n",
       "      <td>0.0</td>\n",
       "    </tr>\n",
       "    <tr>\n",
       "      <th>2019</th>\n",
       "      <td>0.0</td>\n",
       "      <td>8290.0</td>\n",
       "      <td>14920.0</td>\n",
       "      <td>NaN</td>\n",
       "      <td>NaN</td>\n",
       "      <td>0.0</td>\n",
       "      <td>615790.0</td>\n",
       "      <td>0.0</td>\n",
       "      <td>0.0</td>\n",
       "      <td>0.0</td>\n",
       "      <td>...</td>\n",
       "      <td>387640.0</td>\n",
       "      <td>0.0</td>\n",
       "      <td>0.0</td>\n",
       "      <td>0.0</td>\n",
       "      <td>0.0</td>\n",
       "      <td>0.0</td>\n",
       "      <td>0.0</td>\n",
       "      <td>NaN</td>\n",
       "      <td>0.0</td>\n",
       "      <td>0.0</td>\n",
       "    </tr>\n",
       "    <tr>\n",
       "      <th>2020</th>\n",
       "      <td>0.0</td>\n",
       "      <td>4410.0</td>\n",
       "      <td>29650.0</td>\n",
       "      <td>NaN</td>\n",
       "      <td>NaN</td>\n",
       "      <td>0.0</td>\n",
       "      <td>451519.0</td>\n",
       "      <td>0.0</td>\n",
       "      <td>0.0</td>\n",
       "      <td>0.0</td>\n",
       "      <td>...</td>\n",
       "      <td>451180.0</td>\n",
       "      <td>0.0</td>\n",
       "      <td>0.0</td>\n",
       "      <td>0.0</td>\n",
       "      <td>0.0</td>\n",
       "      <td>0.0</td>\n",
       "      <td>0.0</td>\n",
       "      <td>NaN</td>\n",
       "      <td>0.0</td>\n",
       "      <td>0.0</td>\n",
       "    </tr>\n",
       "    <tr>\n",
       "      <th>2021</th>\n",
       "      <td>0.0</td>\n",
       "      <td>7300.0</td>\n",
       "      <td>32670.0</td>\n",
       "      <td>NaN</td>\n",
       "      <td>NaN</td>\n",
       "      <td>0.0</td>\n",
       "      <td>520690.0</td>\n",
       "      <td>0.0</td>\n",
       "      <td>0.0</td>\n",
       "      <td>0.0</td>\n",
       "      <td>...</td>\n",
       "      <td>509200.0</td>\n",
       "      <td>0.0</td>\n",
       "      <td>0.0</td>\n",
       "      <td>0.0</td>\n",
       "      <td>0.0</td>\n",
       "      <td>0.0</td>\n",
       "      <td>0.0</td>\n",
       "      <td>NaN</td>\n",
       "      <td>0.0</td>\n",
       "      <td>0.0</td>\n",
       "    </tr>\n",
       "    <tr>\n",
       "      <th>2022</th>\n",
       "      <td>0.0</td>\n",
       "      <td>4900.0</td>\n",
       "      <td>0.0</td>\n",
       "      <td>NaN</td>\n",
       "      <td>NaN</td>\n",
       "      <td>0.0</td>\n",
       "      <td>311732.0</td>\n",
       "      <td>0.0</td>\n",
       "      <td>0.0</td>\n",
       "      <td>0.0</td>\n",
       "      <td>...</td>\n",
       "      <td>762300.0</td>\n",
       "      <td>0.0</td>\n",
       "      <td>0.0</td>\n",
       "      <td>0.0</td>\n",
       "      <td>0.0</td>\n",
       "      <td>0.0</td>\n",
       "      <td>0.0</td>\n",
       "      <td>NaN</td>\n",
       "      <td>0.0</td>\n",
       "      <td>0.0</td>\n",
       "    </tr>\n",
       "  </tbody>\n",
       "</table>\n",
       "<p>1050 rows × 136 columns</p>\n",
       "</div>"
      ],
      "text/plain": [
       "Variable               AI stud fees and herd testing ($)  \\\n",
       "ABARES region    Year                                      \n",
       "NSW Central West 1990                               90.0   \n",
       "                 1991                              310.0   \n",
       "                 1992                               90.0   \n",
       "                 1993                              150.0   \n",
       "                 1994                               90.0   \n",
       "...                                                  ...   \n",
       "WA The Kimberley 2018                             6150.0   \n",
       "                 2019                                0.0   \n",
       "                 2020                                0.0   \n",
       "                 2021                                0.0   \n",
       "                 2022                                0.0   \n",
       "\n",
       "Variable               Accounting services ($)  Advisory services ($)  \\\n",
       "ABARES region    Year                                                   \n",
       "NSW Central West 1990                   2320.0                  120.0   \n",
       "                 1991                   2290.0                  210.0   \n",
       "                 1992                   2790.0                  730.0   \n",
       "                 1993                   2180.0                  280.0   \n",
       "                 1994                   2430.0                  190.0   \n",
       "...                                        ...                    ...   \n",
       "WA The Kimberley 2018                  11550.0                14640.0   \n",
       "                 2019                   8290.0                14920.0   \n",
       "                 2020                   4410.0                29650.0   \n",
       "                 2021                   7300.0                32670.0   \n",
       "                 2022                   4900.0                    0.0   \n",
       "\n",
       "Variable               Age of owner manager (yrs)  Age of spouse (yrs)  \\\n",
       "ABARES region    Year                                                    \n",
       "NSW Central West 1990                        57.0                 51.0   \n",
       "                 1991                        54.0                 51.0   \n",
       "                 1992                        52.0                 49.0   \n",
       "                 1993                        54.0                 50.0   \n",
       "                 1994                        53.0                 49.0   \n",
       "...                                           ...                  ...   \n",
       "WA The Kimberley 2018                         NaN                  NaN   \n",
       "                 2019                         NaN                  NaN   \n",
       "                 2020                         NaN                  NaN   \n",
       "                 2021                         NaN                  NaN   \n",
       "                 2022                         NaN                  NaN   \n",
       "\n",
       "Variable               Agistment ($)  Area operated at 30 June (ha)  \\\n",
       "ABARES region    Year                                                 \n",
       "NSW Central West 1990          290.0                         1132.0   \n",
       "                 1991          370.0                         1054.0   \n",
       "                 1992          250.0                         1061.0   \n",
       "                 1993          430.0                         1018.0   \n",
       "                 1994          310.0                         1065.0   \n",
       "...                              ...                            ...   \n",
       "WA The Kimberley 2018        42280.0                       488457.0   \n",
       "                 2019            0.0                       615790.0   \n",
       "                 2020            0.0                       451519.0   \n",
       "                 2021            0.0                       520690.0   \n",
       "                 2022            0.0                       311732.0   \n",
       "\n",
       "Variable               Barley area sown (ha)  Barley produced (t)  \\\n",
       "ABARES region    Year                                               \n",
       "NSW Central West 1990                   21.0                 37.0   \n",
       "                 1991                   14.0                 24.0   \n",
       "                 1992                   20.0                 34.0   \n",
       "                 1993                   20.0                 47.0   \n",
       "                 1994                   27.0                 63.0   \n",
       "...                                      ...                  ...   \n",
       "WA The Kimberley 2018                    0.0                  0.0   \n",
       "                 2019                    0.0                  0.0   \n",
       "                 2020                    0.0                  0.0   \n",
       "                 2021                    0.0                  0.0   \n",
       "                 2022                    0.0                  0.0   \n",
       "\n",
       "Variable               Barley receipts ($)  ...  Wages for hired labor ($)  \\\n",
       "ABARES region    Year                       ...                              \n",
       "NSW Central West 1990              12760.0  ...                    11910.0   \n",
       "                 1991               4060.0  ...                     9480.0   \n",
       "                 1992               6930.0  ...                    12440.0   \n",
       "                 1993               7800.0  ...                    12240.0   \n",
       "                 1994               9860.0  ...                    10120.0   \n",
       "...                                    ...  ...                        ...   \n",
       "WA The Kimberley 2018                  0.0  ...                   378070.0   \n",
       "                 2019                  0.0  ...                   387640.0   \n",
       "                 2020                  0.0  ...                   451180.0   \n",
       "                 2021                  0.0  ...                   509200.0   \n",
       "                 2022                  0.0  ...                   762300.0   \n",
       "\n",
       "Variable               Water charges ($)  Wethers at 30 June (no.)  \\\n",
       "ABARES region    Year                                                \n",
       "NSW Central West 1990             1290.0                     430.0   \n",
       "                 1991              900.0                     478.0   \n",
       "                 1992              890.0                     561.0   \n",
       "                 1993             2470.0                     520.0   \n",
       "                 1994             1590.0                     431.0   \n",
       "...                                  ...                       ...   \n",
       "WA The Kimberley 2018                0.0                       0.0   \n",
       "                 2019                0.0                       0.0   \n",
       "                 2020                0.0                       0.0   \n",
       "                 2021                0.0                       0.0   \n",
       "                 2022                0.0                       0.0   \n",
       "\n",
       "Variable               Wheat area sown (ha)  Wheat produced (t)  \\\n",
       "ABARES region    Year                                             \n",
       "NSW Central West 1990                 107.0               199.0   \n",
       "                 1991                 105.0               214.0   \n",
       "                 1992                  80.0               134.0   \n",
       "                 1993                 101.0               243.0   \n",
       "                 1994                 106.0               304.0   \n",
       "...                                     ...                 ...   \n",
       "WA The Kimberley 2018                   0.0                 0.0   \n",
       "                 2019                   0.0                 0.0   \n",
       "                 2020                   0.0                 0.0   \n",
       "                 2021                   0.0                 0.0   \n",
       "                 2022                   0.0                 0.0   \n",
       "\n",
       "Variable               Wheat receipts ($)  Wheat sold (t)  \\\n",
       "ABARES region    Year                                       \n",
       "NSW Central West 1990             85060.0           201.0   \n",
       "                 1991             53280.0           191.0   \n",
       "                 1992             50560.0           135.0   \n",
       "                 1993             78890.0           235.0   \n",
       "                 1994             85940.0           269.0   \n",
       "...                                   ...             ...   \n",
       "WA The Kimberley 2018                 0.0             0.0   \n",
       "                 2019                 0.0             0.0   \n",
       "                 2020                 0.0             0.0   \n",
       "                 2021                 0.0             0.0   \n",
       "                 2022                 0.0             0.0   \n",
       "\n",
       "Variable               Wool cut per head (kg)  Wool produced (kg)  \\\n",
       "ABARES region    Year                                               \n",
       "NSW Central West 1990                     4.6              9783.0   \n",
       "                 1991                     4.8             10288.0   \n",
       "                 1992                     4.5              9734.0   \n",
       "                 1993                     4.5              8955.0   \n",
       "                 1994                     4.2              8038.0   \n",
       "...                                       ...                 ...   \n",
       "WA The Kimberley 2018                     NaN                 0.0   \n",
       "                 2019                     NaN                 0.0   \n",
       "                 2020                     NaN                 0.0   \n",
       "                 2021                     NaN                 0.0   \n",
       "                 2022                     NaN                 0.0   \n",
       "\n",
       "Variable               Wool receipts ($)  \n",
       "ABARES region    Year                     \n",
       "NSW Central West 1990           141140.0  \n",
       "                 1991           104640.0  \n",
       "                 1992            76530.0  \n",
       "                 1993            59910.0  \n",
       "                 1994            61800.0  \n",
       "...                                  ...  \n",
       "WA The Kimberley 2018                0.0  \n",
       "                 2019                0.0  \n",
       "                 2020                0.0  \n",
       "                 2021                0.0  \n",
       "                 2022                0.0  \n",
       "\n",
       "[1050 rows x 136 columns]"
      ]
     },
     "execution_count": 3,
     "metadata": {},
     "output_type": "execute_result"
    }
   ],
   "source": [
    "pivoted = pd.pivot_table(fdp, index=['ABARES region', 'Year'], columns='Variable', values='Value')\n",
    "pivoted\n"
   ]
  },
  {
   "cell_type": "code",
   "execution_count": null,
   "metadata": {},
   "outputs": [],
   "source": []
  },
  {
   "cell_type": "code",
   "execution_count": 4,
   "metadata": {},
   "outputs": [
    {
     "name": "stderr",
     "output_type": "stream",
     "text": [
      "/var/folders/ly/fm0kkb6x1b91l8mnvhcy7kg00000gn/T/ipykernel_2556/3771514738.py:5: SettingWithCopyWarning: \n",
      "A value is trying to be set on a copy of a slice from a DataFrame.\n",
      "Try using .loc[row_indexer,col_indexer] = value instead\n",
      "\n",
      "See the caveats in the documentation: https://pandas.pydata.org/pandas-docs/stable/user_guide/indexing.html#returning-a-view-versus-a-copy\n",
      "  barley.loc[:, 'Imputed value'] = barley_imputed\n"
     ]
    },
    {
     "data": {
      "text/html": [
       "<div>\n",
       "<style scoped>\n",
       "    .dataframe tbody tr th:only-of-type {\n",
       "        vertical-align: middle;\n",
       "    }\n",
       "\n",
       "    .dataframe tbody tr th {\n",
       "        vertical-align: top;\n",
       "    }\n",
       "\n",
       "    .dataframe thead th {\n",
       "        text-align: right;\n",
       "    }\n",
       "</style>\n",
       "<table border=\"1\" class=\"dataframe\">\n",
       "  <thead>\n",
       "    <tr style=\"text-align: right;\">\n",
       "      <th></th>\n",
       "      <th>Variable</th>\n",
       "      <th>Year</th>\n",
       "      <th>ABARES region</th>\n",
       "      <th>Value</th>\n",
       "      <th>RSE</th>\n",
       "      <th>Imputed value</th>\n",
       "    </tr>\n",
       "  </thead>\n",
       "  <tbody>\n",
       "    <tr>\n",
       "      <th>8</th>\n",
       "      <td>Barley produced (t)</td>\n",
       "      <td>1990</td>\n",
       "      <td>NSW Central West</td>\n",
       "      <td>37.0</td>\n",
       "      <td>49.0</td>\n",
       "      <td>37.0</td>\n",
       "    </tr>\n",
       "    <tr>\n",
       "      <th>144</th>\n",
       "      <td>Barley produced (t)</td>\n",
       "      <td>1990</td>\n",
       "      <td>NSW Coastal</td>\n",
       "      <td>0.0</td>\n",
       "      <td>NaN</td>\n",
       "      <td>0.0</td>\n",
       "    </tr>\n",
       "    <tr>\n",
       "      <th>280</th>\n",
       "      <td>Barley produced (t)</td>\n",
       "      <td>1990</td>\n",
       "      <td>NSW Far West</td>\n",
       "      <td>5.0</td>\n",
       "      <td>157.0</td>\n",
       "      <td>5.0</td>\n",
       "    </tr>\n",
       "    <tr>\n",
       "      <th>416</th>\n",
       "      <td>Barley produced (t)</td>\n",
       "      <td>1990</td>\n",
       "      <td>NSW North West Slopes and Plains</td>\n",
       "      <td>66.0</td>\n",
       "      <td>39.0</td>\n",
       "      <td>66.0</td>\n",
       "    </tr>\n",
       "    <tr>\n",
       "      <th>552</th>\n",
       "      <td>Barley produced (t)</td>\n",
       "      <td>1990</td>\n",
       "      <td>NSW Riverina</td>\n",
       "      <td>35.0</td>\n",
       "      <td>34.0</td>\n",
       "      <td>35.0</td>\n",
       "    </tr>\n",
       "    <tr>\n",
       "      <th>...</th>\n",
       "      <td>...</td>\n",
       "      <td>...</td>\n",
       "      <td>...</td>\n",
       "      <td>...</td>\n",
       "      <td>...</td>\n",
       "      <td>...</td>\n",
       "    </tr>\n",
       "    <tr>\n",
       "      <th>138592</th>\n",
       "      <td>Barley produced (t)</td>\n",
       "      <td>2022</td>\n",
       "      <td>NSW Coastal</td>\n",
       "      <td>1.0</td>\n",
       "      <td>173.0</td>\n",
       "      <td>1.0</td>\n",
       "    </tr>\n",
       "    <tr>\n",
       "      <th>138728</th>\n",
       "      <td>Barley produced (t)</td>\n",
       "      <td>2022</td>\n",
       "      <td>NSW Far West</td>\n",
       "      <td>114.0</td>\n",
       "      <td>38.0</td>\n",
       "      <td>114.0</td>\n",
       "    </tr>\n",
       "    <tr>\n",
       "      <th>138864</th>\n",
       "      <td>Barley produced (t)</td>\n",
       "      <td>2022</td>\n",
       "      <td>NSW North West Slopes and Plains</td>\n",
       "      <td>570.0</td>\n",
       "      <td>20.0</td>\n",
       "      <td>570.0</td>\n",
       "    </tr>\n",
       "    <tr>\n",
       "      <th>139000</th>\n",
       "      <td>Barley produced (t)</td>\n",
       "      <td>2022</td>\n",
       "      <td>NSW Riverina</td>\n",
       "      <td>353.0</td>\n",
       "      <td>24.0</td>\n",
       "      <td>353.0</td>\n",
       "    </tr>\n",
       "    <tr>\n",
       "      <th>139136</th>\n",
       "      <td>Barley produced (t)</td>\n",
       "      <td>2022</td>\n",
       "      <td>NSW Tablelands (Northern Central and Southern)</td>\n",
       "      <td>9.0</td>\n",
       "      <td>74.0</td>\n",
       "      <td>9.0</td>\n",
       "    </tr>\n",
       "  </tbody>\n",
       "</table>\n",
       "<p>198 rows × 6 columns</p>\n",
       "</div>"
      ],
      "text/plain": [
       "                   Variable  Year  \\\n",
       "8       Barley produced (t)  1990   \n",
       "144     Barley produced (t)  1990   \n",
       "280     Barley produced (t)  1990   \n",
       "416     Barley produced (t)  1990   \n",
       "552     Barley produced (t)  1990   \n",
       "...                     ...   ...   \n",
       "138592  Barley produced (t)  2022   \n",
       "138728  Barley produced (t)  2022   \n",
       "138864  Barley produced (t)  2022   \n",
       "139000  Barley produced (t)  2022   \n",
       "139136  Barley produced (t)  2022   \n",
       "\n",
       "                                         ABARES region  Value    RSE  \\\n",
       "8                                     NSW Central West   37.0   49.0   \n",
       "144                                        NSW Coastal    0.0    NaN   \n",
       "280                                       NSW Far West    5.0  157.0   \n",
       "416                   NSW North West Slopes and Plains   66.0   39.0   \n",
       "552                                       NSW Riverina   35.0   34.0   \n",
       "...                                                ...    ...    ...   \n",
       "138592                                     NSW Coastal    1.0  173.0   \n",
       "138728                                    NSW Far West  114.0   38.0   \n",
       "138864                NSW North West Slopes and Plains  570.0   20.0   \n",
       "139000                                    NSW Riverina  353.0   24.0   \n",
       "139136  NSW Tablelands (Northern Central and Southern)    9.0   74.0   \n",
       "\n",
       "        Imputed value  \n",
       "8                37.0  \n",
       "144               0.0  \n",
       "280               5.0  \n",
       "416              66.0  \n",
       "552              35.0  \n",
       "...               ...  \n",
       "138592            1.0  \n",
       "138728          114.0  \n",
       "138864          570.0  \n",
       "139000          353.0  \n",
       "139136            9.0  \n",
       "\n",
       "[198 rows x 6 columns]"
      ]
     },
     "metadata": {},
     "output_type": "display_data"
    },
    {
     "name": "stderr",
     "output_type": "stream",
     "text": [
      "/var/folders/ly/fm0kkb6x1b91l8mnvhcy7kg00000gn/T/ipykernel_2556/3771514738.py:12: SettingWithCopyWarning: \n",
      "A value is trying to be set on a copy of a slice from a DataFrame.\n",
      "Try using .loc[row_indexer,col_indexer] = value instead\n",
      "\n",
      "See the caveats in the documentation: https://pandas.pydata.org/pandas-docs/stable/user_guide/indexing.html#returning-a-view-versus-a-copy\n",
      "  hours_worked.loc[:, 'Imputed value'] = hours_imputed\n",
      "/var/folders/ly/fm0kkb6x1b91l8mnvhcy7kg00000gn/T/ipykernel_2556/3771514738.py:13: SettingWithCopyWarning: \n",
      "A value is trying to be set on a copy of a slice from a DataFrame.\n",
      "Try using .loc[row_indexer,col_indexer] = value instead\n",
      "\n",
      "See the caveats in the documentation: https://pandas.pydata.org/pandas-docs/stable/user_guide/indexing.html#returning-a-view-versus-a-copy\n",
      "  hours_worked['Imputed value'] = hours_worked['Imputed value'].round(1)\n"
     ]
    },
    {
     "data": {
      "text/html": [
       "<div>\n",
       "<style scoped>\n",
       "    .dataframe tbody tr th:only-of-type {\n",
       "        vertical-align: middle;\n",
       "    }\n",
       "\n",
       "    .dataframe tbody tr th {\n",
       "        vertical-align: top;\n",
       "    }\n",
       "\n",
       "    .dataframe thead th {\n",
       "        text-align: right;\n",
       "    }\n",
       "</style>\n",
       "<table border=\"1\" class=\"dataframe\">\n",
       "  <thead>\n",
       "    <tr style=\"text-align: right;\">\n",
       "      <th></th>\n",
       "      <th>Variable</th>\n",
       "      <th>Year</th>\n",
       "      <th>ABARES region</th>\n",
       "      <th>Value</th>\n",
       "      <th>RSE</th>\n",
       "      <th>Imputed value</th>\n",
       "    </tr>\n",
       "  </thead>\n",
       "  <tbody>\n",
       "    <tr>\n",
       "      <th>54</th>\n",
       "      <td>Hours worked on farm - total (hrsperwk)</td>\n",
       "      <td>1990</td>\n",
       "      <td>NSW Central West</td>\n",
       "      <td>NaN</td>\n",
       "      <td>NaN</td>\n",
       "      <td>91.5</td>\n",
       "    </tr>\n",
       "    <tr>\n",
       "      <th>190</th>\n",
       "      <td>Hours worked on farm - total (hrsperwk)</td>\n",
       "      <td>1990</td>\n",
       "      <td>NSW Coastal</td>\n",
       "      <td>NaN</td>\n",
       "      <td>NaN</td>\n",
       "      <td>91.5</td>\n",
       "    </tr>\n",
       "    <tr>\n",
       "      <th>326</th>\n",
       "      <td>Hours worked on farm - total (hrsperwk)</td>\n",
       "      <td>1990</td>\n",
       "      <td>NSW Far West</td>\n",
       "      <td>NaN</td>\n",
       "      <td>NaN</td>\n",
       "      <td>91.5</td>\n",
       "    </tr>\n",
       "    <tr>\n",
       "      <th>462</th>\n",
       "      <td>Hours worked on farm - total (hrsperwk)</td>\n",
       "      <td>1990</td>\n",
       "      <td>NSW North West Slopes and Plains</td>\n",
       "      <td>NaN</td>\n",
       "      <td>NaN</td>\n",
       "      <td>91.5</td>\n",
       "    </tr>\n",
       "    <tr>\n",
       "      <th>598</th>\n",
       "      <td>Hours worked on farm - total (hrsperwk)</td>\n",
       "      <td>1990</td>\n",
       "      <td>NSW Riverina</td>\n",
       "      <td>NaN</td>\n",
       "      <td>NaN</td>\n",
       "      <td>91.5</td>\n",
       "    </tr>\n",
       "    <tr>\n",
       "      <th>...</th>\n",
       "      <td>...</td>\n",
       "      <td>...</td>\n",
       "      <td>...</td>\n",
       "      <td>...</td>\n",
       "      <td>...</td>\n",
       "      <td>...</td>\n",
       "    </tr>\n",
       "    <tr>\n",
       "      <th>138638</th>\n",
       "      <td>Hours worked on farm - total (hrsperwk)</td>\n",
       "      <td>2022</td>\n",
       "      <td>NSW Coastal</td>\n",
       "      <td>70.0</td>\n",
       "      <td>13.0</td>\n",
       "      <td>70.0</td>\n",
       "    </tr>\n",
       "    <tr>\n",
       "      <th>138774</th>\n",
       "      <td>Hours worked on farm - total (hrsperwk)</td>\n",
       "      <td>2022</td>\n",
       "      <td>NSW Far West</td>\n",
       "      <td>135.0</td>\n",
       "      <td>11.0</td>\n",
       "      <td>135.0</td>\n",
       "    </tr>\n",
       "    <tr>\n",
       "      <th>138910</th>\n",
       "      <td>Hours worked on farm - total (hrsperwk)</td>\n",
       "      <td>2022</td>\n",
       "      <td>NSW North West Slopes and Plains</td>\n",
       "      <td>113.0</td>\n",
       "      <td>7.0</td>\n",
       "      <td>113.0</td>\n",
       "    </tr>\n",
       "    <tr>\n",
       "      <th>139046</th>\n",
       "      <td>Hours worked on farm - total (hrsperwk)</td>\n",
       "      <td>2022</td>\n",
       "      <td>NSW Riverina</td>\n",
       "      <td>97.0</td>\n",
       "      <td>6.0</td>\n",
       "      <td>97.0</td>\n",
       "    </tr>\n",
       "    <tr>\n",
       "      <th>139182</th>\n",
       "      <td>Hours worked on farm - total (hrsperwk)</td>\n",
       "      <td>2022</td>\n",
       "      <td>NSW Tablelands (Northern Central and Southern)</td>\n",
       "      <td>79.0</td>\n",
       "      <td>7.0</td>\n",
       "      <td>79.0</td>\n",
       "    </tr>\n",
       "  </tbody>\n",
       "</table>\n",
       "<p>198 rows × 6 columns</p>\n",
       "</div>"
      ],
      "text/plain": [
       "                                       Variable  Year  \\\n",
       "54      Hours worked on farm - total (hrsperwk)  1990   \n",
       "190     Hours worked on farm - total (hrsperwk)  1990   \n",
       "326     Hours worked on farm - total (hrsperwk)  1990   \n",
       "462     Hours worked on farm - total (hrsperwk)  1990   \n",
       "598     Hours worked on farm - total (hrsperwk)  1990   \n",
       "...                                         ...   ...   \n",
       "138638  Hours worked on farm - total (hrsperwk)  2022   \n",
       "138774  Hours worked on farm - total (hrsperwk)  2022   \n",
       "138910  Hours worked on farm - total (hrsperwk)  2022   \n",
       "139046  Hours worked on farm - total (hrsperwk)  2022   \n",
       "139182  Hours worked on farm - total (hrsperwk)  2022   \n",
       "\n",
       "                                         ABARES region  Value   RSE  \\\n",
       "54                                    NSW Central West    NaN   NaN   \n",
       "190                                        NSW Coastal    NaN   NaN   \n",
       "326                                       NSW Far West    NaN   NaN   \n",
       "462                   NSW North West Slopes and Plains    NaN   NaN   \n",
       "598                                       NSW Riverina    NaN   NaN   \n",
       "...                                                ...    ...   ...   \n",
       "138638                                     NSW Coastal   70.0  13.0   \n",
       "138774                                    NSW Far West  135.0  11.0   \n",
       "138910                NSW North West Slopes and Plains  113.0   7.0   \n",
       "139046                                    NSW Riverina   97.0   6.0   \n",
       "139182  NSW Tablelands (Northern Central and Southern)   79.0   7.0   \n",
       "\n",
       "        Imputed value  \n",
       "54               91.5  \n",
       "190              91.5  \n",
       "326              91.5  \n",
       "462              91.5  \n",
       "598              91.5  \n",
       "...               ...  \n",
       "138638           70.0  \n",
       "138774          135.0  \n",
       "138910          113.0  \n",
       "139046           97.0  \n",
       "139182           79.0  \n",
       "\n",
       "[198 rows x 6 columns]"
      ]
     },
     "metadata": {},
     "output_type": "display_data"
    }
   ],
   "source": [
    "imputer = SimpleImputer(missing_values=np.NaN, strategy = 'mean')\n",
    "barley = fdp.loc[(fdp['Variable']=='Barley produced (t)') & (fdp['ABARES region'].str.contains('NSW'))]\n",
    "\n",
    "barley_imputed = imputer.fit_transform(barley['Value'].values.reshape(-1,1))[:,0]\n",
    "barley.loc[:, 'Imputed value'] = barley_imputed\n",
    "\n",
    "display(barley)\n",
    "\n",
    "hours_worked = fdp.loc[(fdp['Variable']=='Hours worked on farm - total (hrsperwk)') & (fdp['ABARES region'].str.contains('NSW'))]\n",
    "mimputer = SimpleImputer(missing_values=np.NaN, strategy = 'mean')\n",
    "hours_imputed = mimputer.fit_transform(hours_worked['Value'].values.reshape(-1,1))[:,0]\n",
    "hours_worked.loc[:, 'Imputed value'] = hours_imputed\n",
    "hours_worked['Imputed value'] = hours_worked['Imputed value'].round(1)\n",
    "display(hours_worked)"
   ]
  },
  {
   "cell_type": "code",
   "execution_count": 5,
   "metadata": {},
   "outputs": [
    {
     "data": {
      "text/html": [
       "<div>\n",
       "<style scoped>\n",
       "    .dataframe tbody tr th:only-of-type {\n",
       "        vertical-align: middle;\n",
       "    }\n",
       "\n",
       "    .dataframe tbody tr th {\n",
       "        vertical-align: top;\n",
       "    }\n",
       "\n",
       "    .dataframe thead th {\n",
       "        text-align: right;\n",
       "    }\n",
       "</style>\n",
       "<table border=\"1\" class=\"dataframe\">\n",
       "  <thead>\n",
       "    <tr style=\"text-align: right;\">\n",
       "      <th></th>\n",
       "      <th>Variable_x</th>\n",
       "      <th>Year</th>\n",
       "      <th>ABARES region</th>\n",
       "      <th>Value_x</th>\n",
       "      <th>RSE_x</th>\n",
       "      <th>Imputed value_x</th>\n",
       "      <th>Variable_y</th>\n",
       "      <th>Value_y</th>\n",
       "      <th>RSE_y</th>\n",
       "      <th>Imputed value_y</th>\n",
       "    </tr>\n",
       "  </thead>\n",
       "  <tbody>\n",
       "    <tr>\n",
       "      <th>0</th>\n",
       "      <td>Barley produced (t)</td>\n",
       "      <td>1990</td>\n",
       "      <td>NSW Central West</td>\n",
       "      <td>37.0</td>\n",
       "      <td>49.0</td>\n",
       "      <td>37.0</td>\n",
       "      <td>Hours worked on farm - total (hrsperwk)</td>\n",
       "      <td>NaN</td>\n",
       "      <td>NaN</td>\n",
       "      <td>91.5</td>\n",
       "    </tr>\n",
       "    <tr>\n",
       "      <th>1</th>\n",
       "      <td>Barley produced (t)</td>\n",
       "      <td>1990</td>\n",
       "      <td>NSW Coastal</td>\n",
       "      <td>0.0</td>\n",
       "      <td>NaN</td>\n",
       "      <td>0.0</td>\n",
       "      <td>Hours worked on farm - total (hrsperwk)</td>\n",
       "      <td>NaN</td>\n",
       "      <td>NaN</td>\n",
       "      <td>91.5</td>\n",
       "    </tr>\n",
       "    <tr>\n",
       "      <th>2</th>\n",
       "      <td>Barley produced (t)</td>\n",
       "      <td>1990</td>\n",
       "      <td>NSW Far West</td>\n",
       "      <td>5.0</td>\n",
       "      <td>157.0</td>\n",
       "      <td>5.0</td>\n",
       "      <td>Hours worked on farm - total (hrsperwk)</td>\n",
       "      <td>NaN</td>\n",
       "      <td>NaN</td>\n",
       "      <td>91.5</td>\n",
       "    </tr>\n",
       "    <tr>\n",
       "      <th>3</th>\n",
       "      <td>Barley produced (t)</td>\n",
       "      <td>1990</td>\n",
       "      <td>NSW North West Slopes and Plains</td>\n",
       "      <td>66.0</td>\n",
       "      <td>39.0</td>\n",
       "      <td>66.0</td>\n",
       "      <td>Hours worked on farm - total (hrsperwk)</td>\n",
       "      <td>NaN</td>\n",
       "      <td>NaN</td>\n",
       "      <td>91.5</td>\n",
       "    </tr>\n",
       "    <tr>\n",
       "      <th>4</th>\n",
       "      <td>Barley produced (t)</td>\n",
       "      <td>1990</td>\n",
       "      <td>NSW Riverina</td>\n",
       "      <td>35.0</td>\n",
       "      <td>34.0</td>\n",
       "      <td>35.0</td>\n",
       "      <td>Hours worked on farm - total (hrsperwk)</td>\n",
       "      <td>NaN</td>\n",
       "      <td>NaN</td>\n",
       "      <td>91.5</td>\n",
       "    </tr>\n",
       "    <tr>\n",
       "      <th>...</th>\n",
       "      <td>...</td>\n",
       "      <td>...</td>\n",
       "      <td>...</td>\n",
       "      <td>...</td>\n",
       "      <td>...</td>\n",
       "      <td>...</td>\n",
       "      <td>...</td>\n",
       "      <td>...</td>\n",
       "      <td>...</td>\n",
       "      <td>...</td>\n",
       "    </tr>\n",
       "    <tr>\n",
       "      <th>193</th>\n",
       "      <td>Barley produced (t)</td>\n",
       "      <td>2022</td>\n",
       "      <td>NSW Coastal</td>\n",
       "      <td>1.0</td>\n",
       "      <td>173.0</td>\n",
       "      <td>1.0</td>\n",
       "      <td>Hours worked on farm - total (hrsperwk)</td>\n",
       "      <td>70.0</td>\n",
       "      <td>13.0</td>\n",
       "      <td>70.0</td>\n",
       "    </tr>\n",
       "    <tr>\n",
       "      <th>194</th>\n",
       "      <td>Barley produced (t)</td>\n",
       "      <td>2022</td>\n",
       "      <td>NSW Far West</td>\n",
       "      <td>114.0</td>\n",
       "      <td>38.0</td>\n",
       "      <td>114.0</td>\n",
       "      <td>Hours worked on farm - total (hrsperwk)</td>\n",
       "      <td>135.0</td>\n",
       "      <td>11.0</td>\n",
       "      <td>135.0</td>\n",
       "    </tr>\n",
       "    <tr>\n",
       "      <th>195</th>\n",
       "      <td>Barley produced (t)</td>\n",
       "      <td>2022</td>\n",
       "      <td>NSW North West Slopes and Plains</td>\n",
       "      <td>570.0</td>\n",
       "      <td>20.0</td>\n",
       "      <td>570.0</td>\n",
       "      <td>Hours worked on farm - total (hrsperwk)</td>\n",
       "      <td>113.0</td>\n",
       "      <td>7.0</td>\n",
       "      <td>113.0</td>\n",
       "    </tr>\n",
       "    <tr>\n",
       "      <th>196</th>\n",
       "      <td>Barley produced (t)</td>\n",
       "      <td>2022</td>\n",
       "      <td>NSW Riverina</td>\n",
       "      <td>353.0</td>\n",
       "      <td>24.0</td>\n",
       "      <td>353.0</td>\n",
       "      <td>Hours worked on farm - total (hrsperwk)</td>\n",
       "      <td>97.0</td>\n",
       "      <td>6.0</td>\n",
       "      <td>97.0</td>\n",
       "    </tr>\n",
       "    <tr>\n",
       "      <th>197</th>\n",
       "      <td>Barley produced (t)</td>\n",
       "      <td>2022</td>\n",
       "      <td>NSW Tablelands (Northern Central and Southern)</td>\n",
       "      <td>9.0</td>\n",
       "      <td>74.0</td>\n",
       "      <td>9.0</td>\n",
       "      <td>Hours worked on farm - total (hrsperwk)</td>\n",
       "      <td>79.0</td>\n",
       "      <td>7.0</td>\n",
       "      <td>79.0</td>\n",
       "    </tr>\n",
       "  </tbody>\n",
       "</table>\n",
       "<p>198 rows × 10 columns</p>\n",
       "</div>"
      ],
      "text/plain": [
       "              Variable_x  Year  \\\n",
       "0    Barley produced (t)  1990   \n",
       "1    Barley produced (t)  1990   \n",
       "2    Barley produced (t)  1990   \n",
       "3    Barley produced (t)  1990   \n",
       "4    Barley produced (t)  1990   \n",
       "..                   ...   ...   \n",
       "193  Barley produced (t)  2022   \n",
       "194  Barley produced (t)  2022   \n",
       "195  Barley produced (t)  2022   \n",
       "196  Barley produced (t)  2022   \n",
       "197  Barley produced (t)  2022   \n",
       "\n",
       "                                      ABARES region  Value_x  RSE_x  \\\n",
       "0                                  NSW Central West     37.0   49.0   \n",
       "1                                       NSW Coastal      0.0    NaN   \n",
       "2                                      NSW Far West      5.0  157.0   \n",
       "3                  NSW North West Slopes and Plains     66.0   39.0   \n",
       "4                                      NSW Riverina     35.0   34.0   \n",
       "..                                              ...      ...    ...   \n",
       "193                                     NSW Coastal      1.0  173.0   \n",
       "194                                    NSW Far West    114.0   38.0   \n",
       "195                NSW North West Slopes and Plains    570.0   20.0   \n",
       "196                                    NSW Riverina    353.0   24.0   \n",
       "197  NSW Tablelands (Northern Central and Southern)      9.0   74.0   \n",
       "\n",
       "     Imputed value_x                               Variable_y  Value_y  RSE_y  \\\n",
       "0               37.0  Hours worked on farm - total (hrsperwk)      NaN    NaN   \n",
       "1                0.0  Hours worked on farm - total (hrsperwk)      NaN    NaN   \n",
       "2                5.0  Hours worked on farm - total (hrsperwk)      NaN    NaN   \n",
       "3               66.0  Hours worked on farm - total (hrsperwk)      NaN    NaN   \n",
       "4               35.0  Hours worked on farm - total (hrsperwk)      NaN    NaN   \n",
       "..               ...                                      ...      ...    ...   \n",
       "193              1.0  Hours worked on farm - total (hrsperwk)     70.0   13.0   \n",
       "194            114.0  Hours worked on farm - total (hrsperwk)    135.0   11.0   \n",
       "195            570.0  Hours worked on farm - total (hrsperwk)    113.0    7.0   \n",
       "196            353.0  Hours worked on farm - total (hrsperwk)     97.0    6.0   \n",
       "197              9.0  Hours worked on farm - total (hrsperwk)     79.0    7.0   \n",
       "\n",
       "     Imputed value_y  \n",
       "0               91.5  \n",
       "1               91.5  \n",
       "2               91.5  \n",
       "3               91.5  \n",
       "4               91.5  \n",
       "..               ...  \n",
       "193             70.0  \n",
       "194            135.0  \n",
       "195            113.0  \n",
       "196             97.0  \n",
       "197             79.0  \n",
       "\n",
       "[198 rows x 10 columns]"
      ]
     },
     "execution_count": 5,
     "metadata": {},
     "output_type": "execute_result"
    }
   ],
   "source": [
    "hoursvsbarley = barley.merge(hours_worked, how= \"inner\", left_on=['Year', 'ABARES region'], right_on=['Year', 'ABARES region'])\n",
    "hoursvsbarley"
   ]
  },
  {
   "cell_type": "code",
   "execution_count": 6,
   "metadata": {},
   "outputs": [
    {
     "name": "stderr",
     "output_type": "stream",
     "text": [
      "/var/folders/ly/fm0kkb6x1b91l8mnvhcy7kg00000gn/T/ipykernel_2556/2358614273.py:6: UserWarning: \n",
      "The dash_core_components package is deprecated. Please replace\n",
      "`import dash_core_components as dcc` with `from dash import dcc`\n",
      "  import dash_core_components as dcc\n",
      "/var/folders/ly/fm0kkb6x1b91l8mnvhcy7kg00000gn/T/ipykernel_2556/2358614273.py:7: UserWarning: \n",
      "The dash_html_components package is deprecated. Please replace\n",
      "`import dash_html_components as html` with `from dash import html`\n",
      "  import dash_html_components as html\n"
     ]
    }
   ],
   "source": [
    "import pandas as pd\n",
    "import numpy as np\n",
    "import plotly.express as px\n",
    "import plotly.graph_objects as go\n",
    "import dash\n",
    "import dash_core_components as dcc\n",
    "import dash_html_components as html\n",
    "from dash.dependencies import Input, Output"
   ]
  },
  {
   "cell_type": "code",
   "execution_count": 7,
   "metadata": {},
   "outputs": [],
   "source": [
    "anti = pivoted.dropna()"
   ]
  },
  {
   "cell_type": "code",
   "execution_count": 8,
   "metadata": {},
   "outputs": [
    {
     "name": "stdout",
     "output_type": "stream",
     "text": [
      "<class 'list'>\n"
     ]
    }
   ],
   "source": [
    "print(type(barley['ABARES region'].unique().tolist()))\n"
   ]
  },
  {
   "cell_type": "code",
   "execution_count": 9,
   "metadata": {},
   "outputs": [
    {
     "data": {
      "application/vnd.plotly.v1+json": {
       "config": {
        "plotlyServerURL": "https://plot.ly"
       },
       "data": [
        {
         "hovertemplate": "Year=%{x}<br>Imputed value=%{y}<extra></extra>",
         "legendgroup": "",
         "line": {
          "color": "#636efa",
          "dash": "solid"
         },
         "marker": {
          "symbol": "circle"
         },
         "mode": "lines",
         "name": "",
         "orientation": "v",
         "showlegend": false,
         "type": "scatter",
         "x": [
          1990,
          1990,
          1990,
          1990,
          1990,
          1990,
          1991,
          1991,
          1991,
          1991,
          1991,
          1991,
          1992,
          1992,
          1992,
          1992,
          1992,
          1992,
          1993,
          1993,
          1993,
          1993,
          1993,
          1993,
          1994,
          1994,
          1994,
          1994,
          1994,
          1994,
          1995,
          1995,
          1995,
          1995,
          1995,
          1995,
          1996,
          1996,
          1996,
          1996,
          1996,
          1996,
          1997,
          1997,
          1997,
          1997,
          1997,
          1997,
          1998,
          1998,
          1998,
          1998,
          1998,
          1998,
          1999,
          1999,
          1999,
          1999,
          1999,
          1999,
          2000,
          2000,
          2000,
          2000,
          2000,
          2000,
          2001,
          2001,
          2001,
          2001,
          2001,
          2001,
          2002,
          2002,
          2002,
          2002,
          2002,
          2002,
          2003,
          2003,
          2003,
          2003,
          2003,
          2003,
          2004,
          2004,
          2004,
          2004,
          2004,
          2004,
          2005,
          2005,
          2005,
          2005,
          2005,
          2005,
          2006,
          2006,
          2006,
          2006,
          2006,
          2006,
          2007,
          2007,
          2007,
          2007,
          2007,
          2007,
          2008,
          2008,
          2008,
          2008,
          2008,
          2008,
          2009,
          2009,
          2009,
          2009,
          2009,
          2009,
          2010,
          2010,
          2010,
          2010,
          2010,
          2010,
          2011,
          2011,
          2011,
          2011,
          2011,
          2011,
          2012,
          2012,
          2012,
          2012,
          2012,
          2012,
          2013,
          2013,
          2013,
          2013,
          2013,
          2013,
          2014,
          2014,
          2014,
          2014,
          2014,
          2014,
          2015,
          2015,
          2015,
          2015,
          2015,
          2015,
          2016,
          2016,
          2016,
          2016,
          2016,
          2016,
          2017,
          2017,
          2017,
          2017,
          2017,
          2017,
          2018,
          2018,
          2018,
          2018,
          2018,
          2018,
          2019,
          2019,
          2019,
          2019,
          2019,
          2019,
          2020,
          2020,
          2020,
          2020,
          2020,
          2020,
          2021,
          2021,
          2021,
          2021,
          2021,
          2021,
          2022,
          2022,
          2022,
          2022,
          2022,
          2022
         ],
         "xaxis": "x",
         "y": [
          37,
          0,
          5,
          66,
          35,
          2,
          24,
          0,
          1,
          62,
          45,
          1,
          34,
          0,
          3,
          53,
          88,
          3,
          47,
          0,
          15,
          109,
          66,
          3,
          63,
          0,
          48,
          141,
          144,
          4,
          7,
          0,
          6,
          9,
          10,
          0,
          61,
          0,
          12,
          78,
          75,
          5,
          92,
          4,
          6,
          126,
          34,
          4,
          91,
          4,
          35,
          92,
          62,
          7,
          85,
          11,
          80,
          83,
          85,
          5,
          55,
          1,
          22,
          42,
          81,
          3,
          85,
          0,
          44,
          70,
          110,
          5,
          62,
          3,
          69,
          128,
          80,
          3,
          25,
          1,
          1,
          28,
          38,
          1,
          83,
          5,
          6,
          195,
          147,
          14,
          64,
          5,
          22,
          102,
          68,
          15,
          147,
          0,
          38,
          217,
          175,
          10,
          19,
          6,
          4,
          148,
          47,
          2,
          33,
          3,
          3,
          85,
          25,
          9,
          58,
          5,
          16,
          130,
          68,
          3,
          41,
          1,
          13,
          112,
          75,
          2,
          122,
          10,
          64,
          115,
          158,
          1,
          81,
          0,
          37,
          112,
          80,
          2,
          67,
          0,
          11,
          164,
          109,
          5,
          110,
          0,
          21,
          125,
          124,
          5,
          163,
          0,
          13,
          173,
          136,
          0,
          151,
          2,
          115,
          291,
          215,
          4,
          110,
          0,
          106,
          259,
          279,
          2,
          72,
          0,
          12,
          100,
          123,
          2,
          29,
          0,
          1,
          33,
          72,
          7,
          23,
          8,
          36,
          32,
          173,
          2,
          287,
          1,
          61,
          446,
          401,
          15,
          202,
          1,
          114,
          570,
          353,
          9
         ],
         "yaxis": "y"
        }
       ],
       "layout": {
        "legend": {
         "tracegroupgap": 0
        },
        "margin": {
         "t": 60
        },
        "template": {
         "data": {
          "bar": [
           {
            "error_x": {
             "color": "#2a3f5f"
            },
            "error_y": {
             "color": "#2a3f5f"
            },
            "marker": {
             "line": {
              "color": "#E5ECF6",
              "width": 0.5
             },
             "pattern": {
              "fillmode": "overlay",
              "size": 10,
              "solidity": 0.2
             }
            },
            "type": "bar"
           }
          ],
          "barpolar": [
           {
            "marker": {
             "line": {
              "color": "#E5ECF6",
              "width": 0.5
             },
             "pattern": {
              "fillmode": "overlay",
              "size": 10,
              "solidity": 0.2
             }
            },
            "type": "barpolar"
           }
          ],
          "carpet": [
           {
            "aaxis": {
             "endlinecolor": "#2a3f5f",
             "gridcolor": "white",
             "linecolor": "white",
             "minorgridcolor": "white",
             "startlinecolor": "#2a3f5f"
            },
            "baxis": {
             "endlinecolor": "#2a3f5f",
             "gridcolor": "white",
             "linecolor": "white",
             "minorgridcolor": "white",
             "startlinecolor": "#2a3f5f"
            },
            "type": "carpet"
           }
          ],
          "choropleth": [
           {
            "colorbar": {
             "outlinewidth": 0,
             "ticks": ""
            },
            "type": "choropleth"
           }
          ],
          "contour": [
           {
            "colorbar": {
             "outlinewidth": 0,
             "ticks": ""
            },
            "colorscale": [
             [
              0,
              "#0d0887"
             ],
             [
              0.1111111111111111,
              "#46039f"
             ],
             [
              0.2222222222222222,
              "#7201a8"
             ],
             [
              0.3333333333333333,
              "#9c179e"
             ],
             [
              0.4444444444444444,
              "#bd3786"
             ],
             [
              0.5555555555555556,
              "#d8576b"
             ],
             [
              0.6666666666666666,
              "#ed7953"
             ],
             [
              0.7777777777777778,
              "#fb9f3a"
             ],
             [
              0.8888888888888888,
              "#fdca26"
             ],
             [
              1,
              "#f0f921"
             ]
            ],
            "type": "contour"
           }
          ],
          "contourcarpet": [
           {
            "colorbar": {
             "outlinewidth": 0,
             "ticks": ""
            },
            "type": "contourcarpet"
           }
          ],
          "heatmap": [
           {
            "colorbar": {
             "outlinewidth": 0,
             "ticks": ""
            },
            "colorscale": [
             [
              0,
              "#0d0887"
             ],
             [
              0.1111111111111111,
              "#46039f"
             ],
             [
              0.2222222222222222,
              "#7201a8"
             ],
             [
              0.3333333333333333,
              "#9c179e"
             ],
             [
              0.4444444444444444,
              "#bd3786"
             ],
             [
              0.5555555555555556,
              "#d8576b"
             ],
             [
              0.6666666666666666,
              "#ed7953"
             ],
             [
              0.7777777777777778,
              "#fb9f3a"
             ],
             [
              0.8888888888888888,
              "#fdca26"
             ],
             [
              1,
              "#f0f921"
             ]
            ],
            "type": "heatmap"
           }
          ],
          "heatmapgl": [
           {
            "colorbar": {
             "outlinewidth": 0,
             "ticks": ""
            },
            "colorscale": [
             [
              0,
              "#0d0887"
             ],
             [
              0.1111111111111111,
              "#46039f"
             ],
             [
              0.2222222222222222,
              "#7201a8"
             ],
             [
              0.3333333333333333,
              "#9c179e"
             ],
             [
              0.4444444444444444,
              "#bd3786"
             ],
             [
              0.5555555555555556,
              "#d8576b"
             ],
             [
              0.6666666666666666,
              "#ed7953"
             ],
             [
              0.7777777777777778,
              "#fb9f3a"
             ],
             [
              0.8888888888888888,
              "#fdca26"
             ],
             [
              1,
              "#f0f921"
             ]
            ],
            "type": "heatmapgl"
           }
          ],
          "histogram": [
           {
            "marker": {
             "pattern": {
              "fillmode": "overlay",
              "size": 10,
              "solidity": 0.2
             }
            },
            "type": "histogram"
           }
          ],
          "histogram2d": [
           {
            "colorbar": {
             "outlinewidth": 0,
             "ticks": ""
            },
            "colorscale": [
             [
              0,
              "#0d0887"
             ],
             [
              0.1111111111111111,
              "#46039f"
             ],
             [
              0.2222222222222222,
              "#7201a8"
             ],
             [
              0.3333333333333333,
              "#9c179e"
             ],
             [
              0.4444444444444444,
              "#bd3786"
             ],
             [
              0.5555555555555556,
              "#d8576b"
             ],
             [
              0.6666666666666666,
              "#ed7953"
             ],
             [
              0.7777777777777778,
              "#fb9f3a"
             ],
             [
              0.8888888888888888,
              "#fdca26"
             ],
             [
              1,
              "#f0f921"
             ]
            ],
            "type": "histogram2d"
           }
          ],
          "histogram2dcontour": [
           {
            "colorbar": {
             "outlinewidth": 0,
             "ticks": ""
            },
            "colorscale": [
             [
              0,
              "#0d0887"
             ],
             [
              0.1111111111111111,
              "#46039f"
             ],
             [
              0.2222222222222222,
              "#7201a8"
             ],
             [
              0.3333333333333333,
              "#9c179e"
             ],
             [
              0.4444444444444444,
              "#bd3786"
             ],
             [
              0.5555555555555556,
              "#d8576b"
             ],
             [
              0.6666666666666666,
              "#ed7953"
             ],
             [
              0.7777777777777778,
              "#fb9f3a"
             ],
             [
              0.8888888888888888,
              "#fdca26"
             ],
             [
              1,
              "#f0f921"
             ]
            ],
            "type": "histogram2dcontour"
           }
          ],
          "mesh3d": [
           {
            "colorbar": {
             "outlinewidth": 0,
             "ticks": ""
            },
            "type": "mesh3d"
           }
          ],
          "parcoords": [
           {
            "line": {
             "colorbar": {
              "outlinewidth": 0,
              "ticks": ""
             }
            },
            "type": "parcoords"
           }
          ],
          "pie": [
           {
            "automargin": true,
            "type": "pie"
           }
          ],
          "scatter": [
           {
            "fillpattern": {
             "fillmode": "overlay",
             "size": 10,
             "solidity": 0.2
            },
            "type": "scatter"
           }
          ],
          "scatter3d": [
           {
            "line": {
             "colorbar": {
              "outlinewidth": 0,
              "ticks": ""
             }
            },
            "marker": {
             "colorbar": {
              "outlinewidth": 0,
              "ticks": ""
             }
            },
            "type": "scatter3d"
           }
          ],
          "scattercarpet": [
           {
            "marker": {
             "colorbar": {
              "outlinewidth": 0,
              "ticks": ""
             }
            },
            "type": "scattercarpet"
           }
          ],
          "scattergeo": [
           {
            "marker": {
             "colorbar": {
              "outlinewidth": 0,
              "ticks": ""
             }
            },
            "type": "scattergeo"
           }
          ],
          "scattergl": [
           {
            "marker": {
             "colorbar": {
              "outlinewidth": 0,
              "ticks": ""
             }
            },
            "type": "scattergl"
           }
          ],
          "scattermapbox": [
           {
            "marker": {
             "colorbar": {
              "outlinewidth": 0,
              "ticks": ""
             }
            },
            "type": "scattermapbox"
           }
          ],
          "scatterpolar": [
           {
            "marker": {
             "colorbar": {
              "outlinewidth": 0,
              "ticks": ""
             }
            },
            "type": "scatterpolar"
           }
          ],
          "scatterpolargl": [
           {
            "marker": {
             "colorbar": {
              "outlinewidth": 0,
              "ticks": ""
             }
            },
            "type": "scatterpolargl"
           }
          ],
          "scatterternary": [
           {
            "marker": {
             "colorbar": {
              "outlinewidth": 0,
              "ticks": ""
             }
            },
            "type": "scatterternary"
           }
          ],
          "surface": [
           {
            "colorbar": {
             "outlinewidth": 0,
             "ticks": ""
            },
            "colorscale": [
             [
              0,
              "#0d0887"
             ],
             [
              0.1111111111111111,
              "#46039f"
             ],
             [
              0.2222222222222222,
              "#7201a8"
             ],
             [
              0.3333333333333333,
              "#9c179e"
             ],
             [
              0.4444444444444444,
              "#bd3786"
             ],
             [
              0.5555555555555556,
              "#d8576b"
             ],
             [
              0.6666666666666666,
              "#ed7953"
             ],
             [
              0.7777777777777778,
              "#fb9f3a"
             ],
             [
              0.8888888888888888,
              "#fdca26"
             ],
             [
              1,
              "#f0f921"
             ]
            ],
            "type": "surface"
           }
          ],
          "table": [
           {
            "cells": {
             "fill": {
              "color": "#EBF0F8"
             },
             "line": {
              "color": "white"
             }
            },
            "header": {
             "fill": {
              "color": "#C8D4E3"
             },
             "line": {
              "color": "white"
             }
            },
            "type": "table"
           }
          ]
         },
         "layout": {
          "annotationdefaults": {
           "arrowcolor": "#2a3f5f",
           "arrowhead": 0,
           "arrowwidth": 1
          },
          "autotypenumbers": "strict",
          "coloraxis": {
           "colorbar": {
            "outlinewidth": 0,
            "ticks": ""
           }
          },
          "colorscale": {
           "diverging": [
            [
             0,
             "#8e0152"
            ],
            [
             0.1,
             "#c51b7d"
            ],
            [
             0.2,
             "#de77ae"
            ],
            [
             0.3,
             "#f1b6da"
            ],
            [
             0.4,
             "#fde0ef"
            ],
            [
             0.5,
             "#f7f7f7"
            ],
            [
             0.6,
             "#e6f5d0"
            ],
            [
             0.7,
             "#b8e186"
            ],
            [
             0.8,
             "#7fbc41"
            ],
            [
             0.9,
             "#4d9221"
            ],
            [
             1,
             "#276419"
            ]
           ],
           "sequential": [
            [
             0,
             "#0d0887"
            ],
            [
             0.1111111111111111,
             "#46039f"
            ],
            [
             0.2222222222222222,
             "#7201a8"
            ],
            [
             0.3333333333333333,
             "#9c179e"
            ],
            [
             0.4444444444444444,
             "#bd3786"
            ],
            [
             0.5555555555555556,
             "#d8576b"
            ],
            [
             0.6666666666666666,
             "#ed7953"
            ],
            [
             0.7777777777777778,
             "#fb9f3a"
            ],
            [
             0.8888888888888888,
             "#fdca26"
            ],
            [
             1,
             "#f0f921"
            ]
           ],
           "sequentialminus": [
            [
             0,
             "#0d0887"
            ],
            [
             0.1111111111111111,
             "#46039f"
            ],
            [
             0.2222222222222222,
             "#7201a8"
            ],
            [
             0.3333333333333333,
             "#9c179e"
            ],
            [
             0.4444444444444444,
             "#bd3786"
            ],
            [
             0.5555555555555556,
             "#d8576b"
            ],
            [
             0.6666666666666666,
             "#ed7953"
            ],
            [
             0.7777777777777778,
             "#fb9f3a"
            ],
            [
             0.8888888888888888,
             "#fdca26"
            ],
            [
             1,
             "#f0f921"
            ]
           ]
          },
          "colorway": [
           "#636efa",
           "#EF553B",
           "#00cc96",
           "#ab63fa",
           "#FFA15A",
           "#19d3f3",
           "#FF6692",
           "#B6E880",
           "#FF97FF",
           "#FECB52"
          ],
          "font": {
           "color": "#2a3f5f"
          },
          "geo": {
           "bgcolor": "white",
           "lakecolor": "white",
           "landcolor": "#E5ECF6",
           "showlakes": true,
           "showland": true,
           "subunitcolor": "white"
          },
          "hoverlabel": {
           "align": "left"
          },
          "hovermode": "closest",
          "mapbox": {
           "style": "light"
          },
          "paper_bgcolor": "white",
          "plot_bgcolor": "#E5ECF6",
          "polar": {
           "angularaxis": {
            "gridcolor": "white",
            "linecolor": "white",
            "ticks": ""
           },
           "bgcolor": "#E5ECF6",
           "radialaxis": {
            "gridcolor": "white",
            "linecolor": "white",
            "ticks": ""
           }
          },
          "scene": {
           "xaxis": {
            "backgroundcolor": "#E5ECF6",
            "gridcolor": "white",
            "gridwidth": 2,
            "linecolor": "white",
            "showbackground": true,
            "ticks": "",
            "zerolinecolor": "white"
           },
           "yaxis": {
            "backgroundcolor": "#E5ECF6",
            "gridcolor": "white",
            "gridwidth": 2,
            "linecolor": "white",
            "showbackground": true,
            "ticks": "",
            "zerolinecolor": "white"
           },
           "zaxis": {
            "backgroundcolor": "#E5ECF6",
            "gridcolor": "white",
            "gridwidth": 2,
            "linecolor": "white",
            "showbackground": true,
            "ticks": "",
            "zerolinecolor": "white"
           }
          },
          "shapedefaults": {
           "line": {
            "color": "#2a3f5f"
           }
          },
          "ternary": {
           "aaxis": {
            "gridcolor": "white",
            "linecolor": "white",
            "ticks": ""
           },
           "baxis": {
            "gridcolor": "white",
            "linecolor": "white",
            "ticks": ""
           },
           "bgcolor": "#E5ECF6",
           "caxis": {
            "gridcolor": "white",
            "linecolor": "white",
            "ticks": ""
           }
          },
          "title": {
           "x": 0.05
          },
          "xaxis": {
           "automargin": true,
           "gridcolor": "white",
           "linecolor": "white",
           "ticks": "",
           "title": {
            "standoff": 15
           },
           "zerolinecolor": "white",
           "zerolinewidth": 2
          },
          "yaxis": {
           "automargin": true,
           "gridcolor": "white",
           "linecolor": "white",
           "ticks": "",
           "title": {
            "standoff": 15
           },
           "zerolinecolor": "white",
           "zerolinewidth": 2
          }
         }
        },
        "xaxis": {
         "anchor": "y",
         "domain": [
          0,
          1
         ],
         "title": {
          "text": "Year"
         }
        },
        "yaxis": {
         "anchor": "x",
         "domain": [
          0,
          1
         ],
         "title": {
          "text": "Imputed value"
         }
        }
       }
      }
     },
     "metadata": {},
     "output_type": "display_data"
    }
   ],
   "source": [
    "barley\n",
    "px.line(barley, x='Year', y='Imputed value')\n",
    "\n"
   ]
  },
  {
   "cell_type": "code",
   "execution_count": 10,
   "metadata": {},
   "outputs": [
    {
     "name": "stdout",
     "output_type": "stream",
     "text": [
      "Dash is running on http://127.0.0.1:8054/\n",
      "\n",
      " * Serving Flask app '__main__'\n",
      " * Debug mode: off\n"
     ]
    },
    {
     "name": "stderr",
     "output_type": "stream",
     "text": [
      "\u001b[31m\u001b[1mWARNING: This is a development server. Do not use it in a production deployment. Use a production WSGI server instead.\u001b[0m\n",
      " * Running on http://127.0.0.1:8054\n",
      "\u001b[33mPress CTRL+C to quit\u001b[0m\n",
      "127.0.0.1 - - [10/May/2023 22:19:56] \"GET / HTTP/1.1\" 200 -\n",
      "127.0.0.1 - - [10/May/2023 22:19:56] \"GET /_dash-component-suites/dash/deps/polyfill@7.v2_8_1m1675914931.12.1.min.js HTTP/1.1\" 200 -\n",
      "127.0.0.1 - - [10/May/2023 22:19:56] \"GET /_dash-component-suites/dash/dash-renderer/build/dash_renderer.v2_8_1m1675914931.min.js HTTP/1.1\" 200 -\n",
      "127.0.0.1 - - [10/May/2023 22:19:56] \"GET /_dash-component-suites/dash/deps/react@16.v2_8_1m1675914931.14.0.min.js HTTP/1.1\" 200 -\n",
      "127.0.0.1 - - [10/May/2023 22:19:56] \"GET /_dash-component-suites/dash/dcc/dash_core_components-shared.v2_8_0m1675914931.js HTTP/1.1\" 200 -\n",
      "127.0.0.1 - - [10/May/2023 22:19:56] \"GET /_dash-component-suites/dash/dcc/dash_core_components.v2_8_0m1675914931.js HTTP/1.1\" 200 -\n",
      "127.0.0.1 - - [10/May/2023 22:19:56] \"GET /_dash-component-suites/dash/deps/prop-types@15.v2_8_1m1675914931.8.1.min.js HTTP/1.1\" 200 -\n",
      "127.0.0.1 - - [10/May/2023 22:19:56] \"GET /_dash-component-suites/dash/deps/react-dom@16.v2_8_1m1675914931.14.0.min.js HTTP/1.1\" 200 -\n",
      "127.0.0.1 - - [10/May/2023 22:19:56] \"GET /_dash-component-suites/dash/html/dash_html_components.v2_0_8m1675914931.min.js HTTP/1.1\" 200 -\n",
      "127.0.0.1 - - [10/May/2023 22:19:56] \"GET /_dash-component-suites/dash/dash_table/bundle.v5_2_2m1675914931.js HTTP/1.1\" 200 -\n",
      "127.0.0.1 - - [10/May/2023 22:19:56] \"GET /_dash-layout HTTP/1.1\" 200 -\n",
      "127.0.0.1 - - [10/May/2023 22:19:56] \"GET /_dash-dependencies HTTP/1.1\" 200 -\n",
      "127.0.0.1 - - [10/May/2023 22:19:56] \"GET /_favicon.ico?v=2.8.1 HTTP/1.1\" 200 -\n",
      "127.0.0.1 - - [10/May/2023 22:19:56] \"GET /_dash-component-suites/dash/dcc/async-dropdown.js HTTP/1.1\" 200 -\n",
      "127.0.0.1 - - [10/May/2023 22:19:56] \"GET /_dash-component-suites/dash/dcc/async-graph.js HTTP/1.1\" 200 -\n",
      "127.0.0.1 - - [10/May/2023 22:19:56] \"GET /_dash-component-suites/dash/dcc/async-plotlyjs.js HTTP/1.1\" 200 -\n",
      "127.0.0.1 - - [10/May/2023 22:19:56] \"POST /_dash-update-component HTTP/1.1\" 200 -\n",
      "127.0.0.1 - - [10/May/2023 22:20:03] \"POST /_dash-update-component HTTP/1.1\" 200 -\n",
      "127.0.0.1 - - [10/May/2023 22:20:05] \"POST /_dash-update-component HTTP/1.1\" 200 -\n",
      "127.0.0.1 - - [10/May/2023 22:26:34] \"GET / HTTP/1.1\" 200 -\n",
      "127.0.0.1 - - [10/May/2023 22:26:34] \"GET /_dash-layout HTTP/1.1\" 200 -\n",
      "127.0.0.1 - - [10/May/2023 22:26:34] \"GET /_dash-dependencies HTTP/1.1\" 200 -\n",
      "127.0.0.1 - - [10/May/2023 22:26:34] \"GET /_favicon.ico?v=2.8.1 HTTP/1.1\" 200 -\n",
      "127.0.0.1 - - [10/May/2023 22:26:34] \"POST /_dash-update-component HTTP/1.1\" 200 -\n",
      "127.0.0.1 - - [10/May/2023 22:26:34] \"\u001b[36mGET /_dash-component-suites/dash/dcc/async-dropdown.js HTTP/1.1\u001b[0m\" 304 -\n",
      "127.0.0.1 - - [10/May/2023 22:26:34] \"\u001b[36mGET /_dash-component-suites/dash/dcc/async-graph.js HTTP/1.1\u001b[0m\" 304 -\n",
      "127.0.0.1 - - [10/May/2023 22:26:34] \"\u001b[36mGET /_dash-component-suites/dash/dcc/async-plotlyjs.js HTTP/1.1\u001b[0m\" 304 -\n",
      "127.0.0.1 - - [10/May/2023 22:26:41] \"GET / HTTP/1.1\" 200 -\n",
      "127.0.0.1 - - [10/May/2023 22:26:41] \"GET /_dash-layout HTTP/1.1\" 200 -\n",
      "127.0.0.1 - - [10/May/2023 22:26:41] \"GET /_dash-dependencies HTTP/1.1\" 200 -\n",
      "127.0.0.1 - - [10/May/2023 22:26:41] \"GET /_favicon.ico?v=2.8.1 HTTP/1.1\" 200 -\n",
      "127.0.0.1 - - [10/May/2023 22:26:41] \"POST /_dash-update-component HTTP/1.1\" 200 -\n",
      "127.0.0.1 - - [10/May/2023 22:26:41] \"\u001b[36mGET /_dash-component-suites/dash/dcc/async-graph.js HTTP/1.1\u001b[0m\" 304 -\n",
      "127.0.0.1 - - [10/May/2023 22:26:41] \"\u001b[36mGET /_dash-component-suites/dash/dcc/async-dropdown.js HTTP/1.1\u001b[0m\" 304 -\n",
      "127.0.0.1 - - [10/May/2023 22:26:41] \"\u001b[36mGET /_dash-component-suites/dash/dcc/async-plotlyjs.js HTTP/1.1\u001b[0m\" 304 -\n"
     ]
    }
   ],
   "source": [
    "from dash import Dash, html, dcc, callback, Output, Input\n",
    "import plotly.express as px\n",
    "import pandas as pd\n",
    "\n",
    "options = barley['ABARES region'].unique().tolist()\n",
    "\n",
    "app = Dash(__name__)\n",
    "\n",
    "app.layout = html.Div([\n",
    "    html.H1(children='Progression of Barley yield from 1990 to 2022', style={'textAlign':'center'}),\n",
    "    dcc.Dropdown(options = options, value= 'NSW Central West', id='dropdown-selection'),\n",
    "    dcc.Graph(id='years-vs-barley'),\n",
    "    html.H1(children='Effects of amount of work on corn production', style={'textAlign':'center'}),\n",
    "    dcc.Graph(id = 'work-vs-yield'),\n",
    "    dcc.Dropdown(options=['QL','TAS', 'WA', 'VIC','SA','NSW'], value='NSW', id='state-dropdown'),\n",
    "])\n",
    "\n",
    "@callback(\n",
    "    Output('years-vs-barley', 'figure'),\n",
    "    Input('dropdown-selection', 'value')\n",
    ")\n",
    "def update_graph(value):\n",
    "    dff = barley.loc[barley['ABARES region'] == value]\n",
    "    return px.line(dff, x='Year', y='Imputed value')\n",
    "\n",
    "@callback(\n",
    "    Output('work-vs-yield', 'figure'),\n",
    "    Input('state-dropdown', 'value')\n",
    ")\n",
    "\n",
    "def update_graph2(value):\n",
    "    filtered = anti[(anti['ABARES region'].str.contains(value))]\n",
    "    return px.scatter(filtered, 'Hours worked on farm - total (hrsperwk)', 'Barley produced (t)', color = filtered.index.get_level_values('ABARES region'), size = 'Area operated at 30 June (ha)')\n",
    "    \n",
    "\n",
    "if __name__ == '__main__':\n",
    "    app.run(debug=False, port = 8054)"
   ]
  },
  {
   "cell_type": "code",
   "execution_count": null,
   "metadata": {},
   "outputs": [
    {
     "ename": "SystemExit",
     "evalue": "1",
     "output_type": "error",
     "traceback": [
      "\u001b[0;31m---------------------------------------------------------------------------\u001b[0m",
      "\u001b[0;31mSystemExit\u001b[0m                                Traceback (most recent call last)",
      "\u001b[1;32m/Users/tinas/Documents/geo analysis/analysis.ipynb Cell 11\u001b[0m in \u001b[0;36m<cell line: 48>\u001b[0;34m()\u001b[0m\n\u001b[1;32m     <a href='vscode-notebook-cell:/Users/tinas/Documents/geo%20analysis/analysis.ipynb#X13sZmlsZQ%3D%3D?line=45'>46</a>\u001b[0m     \u001b[39mreturn\u001b[39;00m px\u001b[39m.\u001b[39mscatter(filtered, \u001b[39m'\u001b[39m\u001b[39mHours worked on farm - total (hrsperwk)\u001b[39m\u001b[39m'\u001b[39m, \u001b[39m'\u001b[39m\u001b[39mBarley produced (t)\u001b[39m\u001b[39m'\u001b[39m, color \u001b[39m=\u001b[39m filtered\u001b[39m.\u001b[39mindex\u001b[39m.\u001b[39mget_level_values(\u001b[39m'\u001b[39m\u001b[39mABARES region\u001b[39m\u001b[39m'\u001b[39m), size \u001b[39m=\u001b[39m \u001b[39m'\u001b[39m\u001b[39mArea operated at 30 June (ha)\u001b[39m\u001b[39m'\u001b[39m)\n\u001b[1;32m     <a href='vscode-notebook-cell:/Users/tinas/Documents/geo%20analysis/analysis.ipynb#X13sZmlsZQ%3D%3D?line=47'>48</a>\u001b[0m \u001b[39mif\u001b[39;00m \u001b[39m__name__\u001b[39m \u001b[39m==\u001b[39m \u001b[39m'\u001b[39m\u001b[39m__main__\u001b[39m\u001b[39m'\u001b[39m:\n\u001b[0;32m---> <a href='vscode-notebook-cell:/Users/tinas/Documents/geo%20analysis/analysis.ipynb#X13sZmlsZQ%3D%3D?line=48'>49</a>\u001b[0m     app\u001b[39m.\u001b[39;49mrun_server(debug\u001b[39m=\u001b[39;49m\u001b[39mTrue\u001b[39;49;00m, port \u001b[39m=\u001b[39;49m \u001b[39m8052\u001b[39;49m)\n",
      "File \u001b[0;32m/Library/Frameworks/Python.framework/Versions/3.10/lib/python3.10/site-packages/dash/dash.py:2132\u001b[0m, in \u001b[0;36mDash.run_server\u001b[0;34m(self, *args, **kwargs)\u001b[0m\n\u001b[1;32m   2126\u001b[0m \u001b[39mdef\u001b[39;00m \u001b[39mrun_server\u001b[39m(\u001b[39mself\u001b[39m, \u001b[39m*\u001b[39margs, \u001b[39m*\u001b[39m\u001b[39m*\u001b[39mkwargs):\n\u001b[1;32m   2127\u001b[0m     \u001b[39m\"\"\"`run_server` is a deprecated alias of `run` and may be removed in a\u001b[39;00m\n\u001b[1;32m   2128\u001b[0m \u001b[39m    future version. We recommend using `app.run` instead.\u001b[39;00m\n\u001b[1;32m   2129\u001b[0m \n\u001b[1;32m   2130\u001b[0m \u001b[39m    See `app.run` for usage information.\u001b[39;00m\n\u001b[1;32m   2131\u001b[0m \u001b[39m    \"\"\"\u001b[39;00m\n\u001b[0;32m-> 2132\u001b[0m     \u001b[39mself\u001b[39;49m\u001b[39m.\u001b[39;49mrun(\u001b[39m*\u001b[39;49margs, \u001b[39m*\u001b[39;49m\u001b[39m*\u001b[39;49mkwargs)\n",
      "File \u001b[0;32m/Library/Frameworks/Python.framework/Versions/3.10/lib/python3.10/site-packages/dash/dash.py:1979\u001b[0m, in \u001b[0;36mDash.run\u001b[0;34m(self, host, port, proxy, debug, dev_tools_ui, dev_tools_props_check, dev_tools_serve_dev_bundles, dev_tools_hot_reload, dev_tools_hot_reload_interval, dev_tools_hot_reload_watch_interval, dev_tools_hot_reload_max_retry, dev_tools_silence_routes_logging, dev_tools_prune_errors, **flask_run_options)\u001b[0m\n\u001b[1;32m   1976\u001b[0m         \u001b[39melif\u001b[39;00m os\u001b[39m.\u001b[39mpath\u001b[39m.\u001b[39misfile(path):\n\u001b[1;32m   1977\u001b[0m             extra_files\u001b[39m.\u001b[39mappend(path)\n\u001b[0;32m-> 1979\u001b[0m \u001b[39mself\u001b[39;49m\u001b[39m.\u001b[39;49mserver\u001b[39m.\u001b[39;49mrun(host\u001b[39m=\u001b[39;49mhost, port\u001b[39m=\u001b[39;49mport, debug\u001b[39m=\u001b[39;49mdebug, \u001b[39m*\u001b[39;49m\u001b[39m*\u001b[39;49mflask_run_options)\n",
      "File \u001b[0;32m/Library/Frameworks/Python.framework/Versions/3.10/lib/python3.10/site-packages/flask/app.py:1188\u001b[0m, in \u001b[0;36mFlask.run\u001b[0;34m(self, host, port, debug, load_dotenv, **options)\u001b[0m\n\u001b[1;32m   1185\u001b[0m \u001b[39mfrom\u001b[39;00m \u001b[39mwerkzeug\u001b[39;00m\u001b[39m.\u001b[39;00m\u001b[39mserving\u001b[39;00m \u001b[39mimport\u001b[39;00m run_simple\n\u001b[1;32m   1187\u001b[0m \u001b[39mtry\u001b[39;00m:\n\u001b[0;32m-> 1188\u001b[0m     run_simple(t\u001b[39m.\u001b[39;49mcast(\u001b[39mstr\u001b[39;49m, host), port, \u001b[39mself\u001b[39;49m, \u001b[39m*\u001b[39;49m\u001b[39m*\u001b[39;49moptions)\n\u001b[1;32m   1189\u001b[0m \u001b[39mfinally\u001b[39;00m:\n\u001b[1;32m   1190\u001b[0m     \u001b[39m# reset the first request information if the development server\u001b[39;00m\n\u001b[1;32m   1191\u001b[0m     \u001b[39m# reset normally.  This makes it possible to restart the server\u001b[39;00m\n\u001b[1;32m   1192\u001b[0m     \u001b[39m# without reloader and that stuff from an interactive shell.\u001b[39;00m\n\u001b[1;32m   1193\u001b[0m     \u001b[39mself\u001b[39m\u001b[39m.\u001b[39m_got_first_request \u001b[39m=\u001b[39m \u001b[39mFalse\u001b[39;00m\n",
      "File \u001b[0;32m/Library/Frameworks/Python.framework/Versions/3.10/lib/python3.10/site-packages/werkzeug/serving.py:1090\u001b[0m, in \u001b[0;36mrun_simple\u001b[0;34m(hostname, port, application, use_reloader, use_debugger, use_evalex, extra_files, exclude_patterns, reloader_interval, reloader_type, threaded, processes, request_handler, static_files, passthrough_errors, ssl_context)\u001b[0m\n\u001b[1;32m   1087\u001b[0m \u001b[39mif\u001b[39;00m use_reloader:\n\u001b[1;32m   1088\u001b[0m     \u001b[39mfrom\u001b[39;00m \u001b[39m.\u001b[39;00m\u001b[39m_reloader\u001b[39;00m \u001b[39mimport\u001b[39;00m run_with_reloader\n\u001b[0;32m-> 1090\u001b[0m     run_with_reloader(\n\u001b[1;32m   1091\u001b[0m         srv\u001b[39m.\u001b[39;49mserve_forever,\n\u001b[1;32m   1092\u001b[0m         extra_files\u001b[39m=\u001b[39;49mextra_files,\n\u001b[1;32m   1093\u001b[0m         exclude_patterns\u001b[39m=\u001b[39;49mexclude_patterns,\n\u001b[1;32m   1094\u001b[0m         interval\u001b[39m=\u001b[39;49mreloader_interval,\n\u001b[1;32m   1095\u001b[0m         reloader_type\u001b[39m=\u001b[39;49mreloader_type,\n\u001b[1;32m   1096\u001b[0m     )\n\u001b[1;32m   1097\u001b[0m \u001b[39melse\u001b[39;00m:\n\u001b[1;32m   1098\u001b[0m     srv\u001b[39m.\u001b[39mserve_forever()\n",
      "File \u001b[0;32m/Library/Frameworks/Python.framework/Versions/3.10/lib/python3.10/site-packages/werkzeug/_reloader.py:444\u001b[0m, in \u001b[0;36mrun_with_reloader\u001b[0;34m(main_func, extra_files, exclude_patterns, interval, reloader_type)\u001b[0m\n\u001b[1;32m    442\u001b[0m             reloader\u001b[39m.\u001b[39mrun()\n\u001b[1;32m    443\u001b[0m     \u001b[39melse\u001b[39;00m:\n\u001b[0;32m--> 444\u001b[0m         sys\u001b[39m.\u001b[39;49mexit(reloader\u001b[39m.\u001b[39;49mrestart_with_reloader())\n\u001b[1;32m    445\u001b[0m \u001b[39mexcept\u001b[39;00m \u001b[39mKeyboardInterrupt\u001b[39;00m:\n\u001b[1;32m    446\u001b[0m     \u001b[39mpass\u001b[39;00m\n",
      "\u001b[0;31mSystemExit\u001b[0m: 1"
     ]
    }
   ],
   "source": [
    "%tb"
   ]
  },
  {
   "cell_type": "code",
   "execution_count": null,
   "metadata": {},
   "outputs": [],
   "source": [
    "from dash import Dash, html, dcc, callback, Output, Input\n",
    "import plotly.express as px\n",
    "import pandas as pd\n",
    "\n",
    "options = barley['ABARES region'].unique().tolist()\n",
    "\n",
    "app = Dash(__name__)\n",
    "\n",
    "app.layout = html.Div([\n",
    "    html.H1(children='Progression of Barley yield from 1990 to 2022', style={'textAlign':'center'}),\n",
    "    dcc.Dropdown(options = options, value= 'NSW Central West', id='dropdown-selection'),\n",
    "    dcc.Graph(id='years-vs-barley'),\n",
    "    html.H1(children='Effects of amount of work on corn production', style={'textAlign':'center'}),\n",
    "    dcc.Graph(id = 'work-vs-yield'),\n",
    "    dcc.Dropdown(options=['QL','TAS', 'WA', 'VIC','SA','NSW'], value='NSW', id='state-dropdown'),\n",
    "])\n",
    "\n",
    "@callback(\n",
    "    Output('graph-content', 'figure'),\n",
    "    Input('dropdown-selection', 'value')\n",
    ")\n",
    "def update_graph(value):\n",
    "    dff = barley.loc[barley['ABARES region'] == value]\n",
    "    return px.line(dff, x='Year', y='Imputed value')\n",
    "\n",
    "# @callback(\n",
    "#     Output('work-vs-yield', 'figure'),\n",
    "#     # Input('state-dropdown', 'value')\n",
    "    \n",
    "#     )\n",
    "\n",
    "# def update_graph2():\n",
    "#     # filtered = anti[(anti['ABARES region'].str.contains(state_dropdown))]\n",
    "#     return px.scatter(anti, 'Hours worked on farm - total (hrsperwk)', 'Barley produced (t)', color = anti.index.get_level_values('ABARES region'), size = 'Area operated at 30 June (ha)')\n",
    "\n",
    "if __name__ == '__main__':\n",
    "    app.run(debug=True, port = 8054)"
   ]
  }
 ],
 "metadata": {
  "kernelspec": {
   "display_name": "Python 3.10.10 64-bit",
   "language": "python",
   "name": "python3"
  },
  "language_info": {
   "codemirror_mode": {
    "name": "ipython",
    "version": 3
   },
   "file_extension": ".py",
   "mimetype": "text/x-python",
   "name": "python",
   "nbconvert_exporter": "python",
   "pygments_lexer": "ipython3",
   "version": "3.10.10"
  },
  "orig_nbformat": 4,
  "vscode": {
   "interpreter": {
    "hash": "aee8b7b246df8f9039afb4144a1f6fd8d2ca17a180786b69acc140d282b71a49"
   }
  }
 },
 "nbformat": 4,
 "nbformat_minor": 2
}
